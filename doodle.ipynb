{
 "cells": [
  {
   "cell_type": "markdown",
   "metadata": {},
   "source": [
    "```python\n",
    "def train_input_fn(training_dir, hyperparameters):\n",
    "    #\n",
    "def eval_input_fn(training_dir, hyperparameters):\n",
    "    #\n",
    "def serving_input_fn(hyperparameters):\n",
    "    #\n",
    "def model_fn(features, labels, mode, hyperparameters):\n",
    "    #\n",
    "```"
   ]
  },
  {
   "cell_type": "code",
   "execution_count": null,
   "metadata": {},
   "outputs": [],
   "source": [
    "import sagemaker\n",
    "\n",
    "role    = sagemaker.get_execution_role()\n",
    "session = sagemaker.Session()\n",
    "bucket  = session.default_bucket()"
   ]
  },
  {
   "cell_type": "code",
   "execution_count": null,
   "metadata": {},
   "outputs": [],
   "source": [
    "params = {\n",
    "    'train_tfrecord_file' : 'train.tfr',\n",
    "    'test_tfrecord_file'  : 'test.tfr',\n",
    "    'samples_per_epoch'   : 700000,\n",
    "    'save_summary_steps'  : 100,\n",
    "}"
   ]
  },
  {
   "cell_type": "code",
   "execution_count": null,
   "metadata": {},
   "outputs": [],
   "source": [
    "your_name = '' # 他の人と被らなければ、なんでも大丈夫です\n",
    "\n",
    "# 文字列チェック\n",
    "import re; assert re.match(r'^[0-9a-z-]+$', your_name) is not None\n",
    "\n",
    "output_path     = 's3://{}/doodle/model/{}/export'.format(bucket, your_name)\n",
    "checkpoint_path = 's3://{}/doodle/model/{}/ckpt'  .format(bucket, your_name)\n",
    "code_location   = 's3://{}/doodle/model/{}/source'.format(bucket, your_name)\n",
    "base_job_name   = 'doodle-training-job-{}'.format(your_name)"
   ]
  },
  {
   "cell_type": "code",
   "execution_count": null,
   "metadata": {},
   "outputs": [],
   "source": [
    "from sagemaker.tensorflow import TensorFlow\n",
    "\n",
    "estimator = TensorFlow(\n",
    "    hyperparameters=params,\n",
    "    \n",
    "    output_path=output_path,\n",
    "    checkpoint_path=checkpoint_path,\n",
    "    code_location=code_location,\n",
    "    base_job_name=base_job_name,\n",
    "    \n",
    "    source_dir='./src'\n",
    "    entry_point='doodle.py',\n",
    "    framework_version='1.6',\n",
    "    \n",
    "    role=role,\n",
    "    training_steps=20000,\n",
    "    evaluation_steps=2000,\n",
    "    train_instance_count=1,\n",
    "    train_instance_type='ml.p2.xlarge')"
   ]
  },
  {
   "cell_type": "markdown",
   "metadata": {},
   "source": [
    "```python\n",
    "data_dir = session.upload_data(\n",
    "    'data', # ローカルディレクトリ\n",
    "    bucket=bucket,\n",
    "    key_prefix='doodle/data')\n",
    "```"
   ]
  },
  {
   "cell_type": "code",
   "execution_count": null,
   "metadata": {},
   "outputs": [],
   "source": [
    "data_dir = 's3://{}/doodle/data'.format(bucket)"
   ]
  },
  {
   "cell_type": "code",
   "execution_count": null,
   "metadata": {},
   "outputs": [],
   "source": [
    "%%time\n",
    "estimator.fit(data_dir, run_tensorboard_locally=True)"
   ]
  },
  {
   "cell_type": "markdown",
   "metadata": {},
   "source": [
    "http://(ノートブックのURL)/[proxy/6006/](/proxy/6006/)"
   ]
  },
  {
   "cell_type": "code",
   "execution_count": null,
   "metadata": {},
   "outputs": [],
   "source": [
    "%%time\n",
    "api = estimator.deploy(\n",
    "    initial_instance_count=1,\n",
    "    instance_type='ml.m5.large')\n",
    "print(api.endpoint)"
   ]
  },
  {
   "cell_type": "code",
   "execution_count": null,
   "metadata": {},
   "outputs": [],
   "source": []
  }
 ],
 "metadata": {
  "kernelspec": {
   "display_name": "Python 3",
   "language": "python",
   "name": "python3"
  },
  "language_info": {
   "codemirror_mode": {
    "name": "ipython",
    "version": 3
   },
   "file_extension": ".py",
   "mimetype": "text/x-python",
   "name": "python",
   "nbconvert_exporter": "python",
   "pygments_lexer": "ipython3",
   "version": "3.6.4"
  }
 },
 "nbformat": 4,
 "nbformat_minor": 2
}
