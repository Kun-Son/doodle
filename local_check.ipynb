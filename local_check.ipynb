{
 "cells": [
  {
   "cell_type": "code",
   "execution_count": null,
   "metadata": {},
   "outputs": [],
   "source": [
    "import sys\n",
    "sys.path.append('./src')"
   ]
  },
  {
   "cell_type": "code",
   "execution_count": null,
   "metadata": {},
   "outputs": [],
   "source": [
    "import tensorflow as tf\n",
    "import doodle as dd"
   ]
  },
  {
   "cell_type": "code",
   "execution_count": null,
   "metadata": {},
   "outputs": [],
   "source": [
    "tf.logging.set_verbosity('DEBUG')"
   ]
  },
  {
   "cell_type": "code",
   "execution_count": null,
   "metadata": {},
   "outputs": [],
   "source": [
    "LABELS = [\n",
    "    'apple', 'bed', 'cat', 'dog', 'eye',\n",
    "    'fish', 'grass', 'hand', 'ice cream', 'jacket',\n",
    "]"
   ]
  },
  {
   "cell_type": "code",
   "execution_count": null,
   "metadata": {},
   "outputs": [],
   "source": [
    "params = {\n",
    "    'train_tfrecord_file'   : 'train.tfr',\n",
    "    'test_tfrecord_file'    : 'test.tfr',\n",
    "    'samples_per_epoch'     : 700000,\n",
    "    'save_summary_steps'    : 100,\n",
    "}"
   ]
  },
  {
   "cell_type": "code",
   "execution_count": null,
   "metadata": {},
   "outputs": [],
   "source": [
    "e = tf.estimator.Estimator(model_fn=dd.model_fn, model_dir='./model', params=params)"
   ]
  },
  {
   "cell_type": "code",
   "execution_count": null,
   "metadata": {},
   "outputs": [],
   "source": [
    "%%time\n",
    "e.train(max_steps=10, input_fn=lambda: dd.train_input_fn('./data', params))"
   ]
  },
  {
   "cell_type": "code",
   "execution_count": null,
   "metadata": {},
   "outputs": [],
   "source": [
    "predict = e.predict(lambda: dd.eval_input_fn('./data', params))"
   ]
  },
  {
   "cell_type": "code",
   "execution_count": null,
   "metadata": {},
   "outputs": [],
   "source": [
    "next(predict)"
   ]
  },
  {
   "cell_type": "code",
   "execution_count": null,
   "metadata": {},
   "outputs": [],
   "source": [
    "import numpy as np\n",
    "import matplotlib.pyplot as plt\n",
    "%matplotlib inline\n",
    "predict = e.predict(lambda: dd.eval_input_fn('./data', params))\n",
    "for i in range(10):\n",
    "    r = next(predict)\n",
    "    print(r)"
   ]
  },
  {
   "cell_type": "code",
   "execution_count": null,
   "metadata": {},
   "outputs": [],
   "source": [
    "import tensorflow as tf\n",
    "from sagemaker.tensorflow.tensorflow_serving.apis.predict_pb2 import PredictRequest\n",
    "from sagemaker.tensorflow.tensorflow_serving.apis.prediction_service_pb2 import beta_create_PredictionService_stub\n",
    "\n",
    "def create_request(value):\n",
    "    request = PredictRequest()\n",
    "    request.model_spec.name = 'doodle'\n",
    "    request.model_spec.signature_name = 'serving_default'\n",
    "    request.inputs['image'].CopyFrom(tf.make_tensor_proto(\n",
    "        values=np.asarray(value).astype(np.float32).flatten(), shape=[len(value), 28, 28, 1], dtype=tf.float32))\n",
    "    return request\n",
    "\n",
    "from grpc.beta.implementations import insecure_channel\n",
    "\n",
    "class Predictor(object):\n",
    "    def __init__(self, host, port):\n",
    "        self.channel = insecure_channel(host, port)\n",
    "        self.stub = beta_create_PredictionService_stub(self.channel)\n",
    "    def predict(self, request):\n",
    "        return self.stub.Predict.future(request, 5.0)"
   ]
  },
  {
   "cell_type": "code",
   "execution_count": null,
   "metadata": {},
   "outputs": [],
   "source": [
    "api = Predictor('127.0.0.1', 8500)"
   ]
  },
  {
   "cell_type": "code",
   "execution_count": null,
   "metadata": {},
   "outputs": [],
   "source": [
    "import numpy as np\n",
    "import matplotlib.pyplot as plt\n",
    "%matplotlib inline\n",
    "with tf.Graph().as_default() as g, tf.Session(graph=g) as sess:\n",
    "    features_tensor, labels_tensor = dd.eval_input_fn('./data', params)\n",
    "    [features, labels] = sess.run([features_tensor, labels_tensor])\n",
    "    for i, label in enumerate(labels):\n",
    "        print('{}'.format(LABELS[label]))\n",
    "        plt.imshow(np.reshape(features['image'][0], [28,28]))\n",
    "        plt.show()\n",
    "        break\n",
    "    results = api.predict(create_request(features['image'])).result()\n",
    "    predicts = np.asarray(results.outputs['classes'].int64_val)\n",
    "    print(labels)\n",
    "    print(predicts)"
   ]
  },
  {
   "cell_type": "code",
   "execution_count": null,
   "metadata": {},
   "outputs": [],
   "source": []
  }
 ],
 "metadata": {
  "kernelspec": {
   "display_name": "Python 3",
   "language": "python",
   "name": "python3"
  },
  "language_info": {
   "codemirror_mode": {
    "name": "ipython",
    "version": 3
   },
   "file_extension": ".py",
   "mimetype": "text/x-python",
   "name": "python",
   "nbconvert_exporter": "python",
   "pygments_lexer": "ipython3",
   "version": "3.6.4"
  }
 },
 "nbformat": 4,
 "nbformat_minor": 2
}
