{
 "cells": [
  {
   "cell_type": "markdown",
   "metadata": {},
   "source": [
    "https://storage.googleapis.com/quickdraw_dataset/full/numpy_bitmap/"
   ]
  },
  {
   "cell_type": "code",
   "execution_count": null,
   "metadata": {},
   "outputs": [],
   "source": [
    "!mkdir -p ./data ./raw_data"
   ]
  },
  {
   "cell_type": "code",
   "execution_count": null,
   "metadata": {},
   "outputs": [],
   "source": [
    "%matplotlib inline\n",
    "import matplotlib.pyplot as plt\n",
    "import numpy as np\n",
    "import tensorflow as tf\n",
    "import six"
   ]
  },
  {
   "cell_type": "code",
   "execution_count": null,
   "metadata": {},
   "outputs": [],
   "source": [
    "URL = 'https://storage.googleapis.com/quickdraw_dataset/full/numpy_bitmap'"
   ]
  },
  {
   "cell_type": "code",
   "execution_count": null,
   "metadata": {},
   "outputs": [],
   "source": [
    "LABELS = [\n",
    "    'apple', 'bed', 'cat', 'dog', 'eye',\n",
    "    'fish', 'grass', 'hand', 'ice cream', 'jacket',\n",
    "]"
   ]
  },
  {
   "cell_type": "code",
   "execution_count": null,
   "metadata": {},
   "outputs": [],
   "source": [
    "for l in LABELS:\n",
    "    url = '{}/{}.npy'.format(URL, l)\n",
    "    !wget -P raw_data \"$url\""
   ]
  },
  {
   "cell_type": "code",
   "execution_count": null,
   "metadata": {},
   "outputs": [],
   "source": [
    "raw_data = {key: np.load('raw_data/{}.npy'.format(key)) for key in LABELS}"
   ]
  },
  {
   "cell_type": "code",
   "execution_count": null,
   "metadata": {},
   "outputs": [],
   "source": [
    "for k, v in six.iteritems(raw_data):\n",
    "    print('{:10}: {}'.format(k,len(v)))"
   ]
  },
  {
   "cell_type": "code",
   "execution_count": null,
   "metadata": {},
   "outputs": [],
   "source": [
    "plt.imshow(np.reshape(raw_data['cat'][0], [28, 28]), cmap='gray_r')\n",
    "plt.show()"
   ]
  },
  {
   "cell_type": "code",
   "execution_count": null,
   "metadata": {},
   "outputs": [],
   "source": [
    "def get_example_proto(image, label):\n",
    "    return tf.train.Example(features=tf.train.Features(feature={\n",
    "        'image' : tf.train.Feature(float_list=tf.train.FloatList(value=image)),\n",
    "        'label' : tf.train.Feature(int64_list=tf.train.Int64List(value=label)),\n",
    "    })).SerializeToString()\n",
    "\n",
    "train_data = []\n",
    "test_data = []\n",
    "for label_name, value in six.iteritems(raw_data):\n",
    "    label_index = LABELS.index(label_name)\n",
    "    print('proccessing label {}: \"{}\"'.format(label_index, label_name))\n",
    "    value = np.asarray(value) / 255.\n",
    "    tr = value[:70000]\n",
    "    te = value[70000:100000]\n",
    "    train_data.extend(zip(tr, np.full(70000, label_index)))\n",
    "    test_data.extend(zip(te, np.full(30000, label_index)))"
   ]
  },
  {
   "cell_type": "code",
   "execution_count": null,
   "metadata": {},
   "outputs": [],
   "source": [
    "np.random.shuffle(train_data)\n",
    "np.random.shuffle(test_data)"
   ]
  },
  {
   "cell_type": "code",
   "execution_count": null,
   "metadata": {},
   "outputs": [],
   "source": [
    "train_filename = './data/train.tfr'\n",
    "test_filename  = './data/test.tfr'\n",
    "tfr_options = tf.python_io.TFRecordOptions(tf.python_io.TFRecordCompressionType.GZIP)\n",
    "with tf.python_io.TFRecordWriter(train_filename, tfr_options) as train_tfr, \\\n",
    "     tf.python_io.TFRecordWriter(test_filename, tfr_options) as test_tfr:\n",
    "    for data, label in train_data:\n",
    "        train_tfr.write(get_example_proto(data, [label]))\n",
    "    for data, label in test_data:\n",
    "        test_tfr.write(get_example_proto(data, [label]))"
   ]
  }
 ],
 "metadata": {
  "kernelspec": {
   "display_name": "Python 3",
   "language": "python",
   "name": "python3"
  },
  "language_info": {
   "codemirror_mode": {
    "name": "ipython",
    "version": 3
   },
   "file_extension": ".py",
   "mimetype": "text/x-python",
   "name": "python",
   "nbconvert_exporter": "python",
   "pygments_lexer": "ipython3",
   "version": "3.6.4"
  }
 },
 "nbformat": 4,
 "nbformat_minor": 2
}
